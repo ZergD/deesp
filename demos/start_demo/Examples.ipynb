{
 "cells": [
  {
   "cell_type": "markdown",
   "metadata": {},
   "source": [
    "# <font color=orange>1) Examples : Load a game with an initial grid state and get the flows in Amperes</font>"
   ]
  },
  {
   "cell_type": "markdown",
   "metadata": {},
   "source": [
    "### <font color=green>I) Initialisation, game loading.</font>"
   ]
  },
  {
   "cell_type": "code",
   "execution_count": 23,
   "metadata": {},
   "outputs": [
    {
     "name": "stderr",
     "output_type": "stream",
     "text": [
      "WARNING:pypownet.pypownet.parameters:Using custom reward signal CustomRewardSignal of file /home/mozgawamar/Documents/deesp/deesp/ressources/parameters/default14/reward_signal.py\n"
     ]
    },
    {
     "name": "stdout",
     "output_type": "stream",
     "text": [
      "mp_path_config = /home/mozgawamar/.local/lib/python3.6/site-packages/pypownet-2.0.4-py3.6.egg/matpower_path.config\n",
      "relative_path =  /home/mozgawamar/Documents/matpower/matpower/\n"
     ]
    }
   ],
   "source": [
    "%run ~/Documents/pypownet-master/pypownet/grid.py\n",
    "%run ~/Documents/pypownet-master/pypownet/game.py\n",
    "from IPython.core.display import display, SVG\n",
    "\n",
    "import networkx as nx\n",
    "\n",
    "parameters_folder = \"../../deesp/ressources/parameters/default14\"\n",
    "game_level = \"level0\"\n",
    "chronic_looping_mode = 'natural'\n",
    "chronic_starting_id = 0\n",
    "game_over_mode = 'soft'\n",
    "\n",
    "_game = Game(parameters_folder, game_level, chronic_looping_mode, chronic_starting_id,\n",
    "                 game_over_mode, renderer_frame_latency=None)"
   ]
  },
  {
   "cell_type": "markdown",
   "metadata": {},
   "source": [
    "### <font color=green>II) We retrieve grid and currentflowsZZ</font>"
   ]
  },
  {
   "cell_type": "code",
   "execution_count": 24,
   "metadata": {},
   "outputs": [
    {
     "data": {
      "text/plain": [
       "array([45.01181658, 23.77726765, 27.29772466, 20.86885668, 14.72299187,\n",
       "        9.66009344, 26.9070113 ,  4.31850371,  4.64136691, 10.79893577,\n",
       "       12.11778719,  4.92273769,  6.69043283, 21.47309911, 21.2113432 ,\n",
       "        5.00258911,  3.5357106 ,  4.27412532,  1.30993984,  4.63483861])"
      ]
     },
     "execution_count": 24,
     "metadata": {},
     "output_type": "execute_result"
    }
   ],
   "source": [
    "_grid = _game.grid\n",
    "initial_flows = _grid.extract_flows_a()\n",
    "initial_flows"
   ]
  },
  {
   "cell_type": "markdown",
   "metadata": {},
   "source": [
    "# <font color=orange>2) Compute line flow redispatch for line 10"
   ]
  },
  {
   "cell_type": "markdown",
   "metadata": {},
   "source": [
    "### <font color=green>I) We retrieve the lines statuses, then disable line 10 </font>"
   ]
  },
  {
   "cell_type": "code",
   "execution_count": 25,
   "metadata": {},
   "outputs": [
    {
     "data": {
      "text/plain": [
       "array([1., 1., 1., 1., 1., 1., 1., 1., 1., 1., 1., 1., 1., 1., 1., 1., 1.,\n",
       "       1., 1., 1.])"
      ]
     },
     "execution_count": 25,
     "metadata": {},
     "output_type": "execute_result"
    }
   ],
   "source": [
    "lineStatuses = _grid.get_lines_status()\n",
    "lineStatuses"
   ]
  },
  {
   "cell_type": "code",
   "execution_count": 26,
   "metadata": {},
   "outputs": [
    {
     "data": {
      "text/plain": [
       "array([1., 1., 1., 1., 1., 1., 1., 1., 1., 1., 0., 1., 1., 1., 1., 1., 1.,\n",
       "       1., 1., 1.])"
      ]
     },
     "execution_count": 26,
     "metadata": {},
     "output_type": "execute_result"
    }
   ],
   "source": [
    "id_line_cut = 10\n",
    "lineStatuses[id_line_cut] = 0\n",
    "lineStatuses"
   ]
  },
  {
   "cell_type": "markdown",
   "metadata": {},
   "source": [
    "### <font color=green>II) We recompute the load flows\n",
    "- a) Compute a load flow\n",
    "- b) Extract flows\n",
    "- c) Compute the difference between initial state and new situation</font>"
   ]
  },
  {
   "cell_type": "code",
   "execution_count": 27,
   "metadata": {},
   "outputs": [
    {
     "data": {
      "text/plain": [
       "array([45.60036555, 23.88873182, 27.5189059 , 21.25652595, 14.67944054,\n",
       "        9.36621386, 28.68233832,  4.2995144 ,  5.6523563 ,  9.48583455,\n",
       "        0.        , 12.8124802 ,  8.8600393 , 22.15085716, 23.29228954,\n",
       "       10.23801009,  3.50665239,  6.43742288,  9.12259698,  2.09191444])"
      ]
     },
     "execution_count": 27,
     "metadata": {},
     "output_type": "execute_result"
    }
   ],
   "source": [
    "depth = 0 \n",
    "fname_end ='_cascading%d' % depth\n",
    "\n",
    "#recompute load flow\n",
    "_grid.compute_loadflow(fname_end)\n",
    "\n",
    "# extract flows\n",
    "new_flows = _grid.extract_flows_a()\n",
    "new_flows"
   ]
  },
  {
   "cell_type": "code",
   "execution_count": 28,
   "metadata": {},
   "outputs": [
    {
     "data": {
      "text/plain": [
       "array([  0.58854897,   0.11146416,   0.22118124,   0.38766926,\n",
       "        -0.04355133,  -0.29387958,   1.77532702,  -0.01898931,\n",
       "         1.01098939,  -1.31310122, -12.11778719,   7.8897425 ,\n",
       "         2.16960648,   0.67775806,   2.08094634,   5.23542098,\n",
       "        -0.02905821,   2.16329756,   7.81265714,  -2.54292417])"
      ]
     },
     "execution_count": 28,
     "metadata": {},
     "output_type": "execute_result"
    }
   ],
   "source": [
    "# diff between initial and new flows\n",
    "delta_flows = new_flows - initial_flows\n",
    "delta_flows"
   ]
  },
  {
   "cell_type": "markdown",
   "metadata": {},
   "source": [
    "# <font color=orange>3) Build the overloaded redispatch graph</font>\n",
    "1) Get network topology\n",
    "\n",
    "2) Build a graph for this topology\n",
    "\n",
    "3) Give the graph's edges the weight of the flow report\n",
    "\n",
    "4) Create a visualisation of the report graph"
   ]
  },
  {
   "cell_type": "code",
   "execution_count": 29,
   "metadata": {},
   "outputs": [],
   "source": [
    "# retrieve topology\n",
    "mpcbus = _grid.mpc['bus']\n",
    "mpcgen = _game.grid.mpc['gen']\n",
    "half_nodes_ids = mpcbus[:len(mpcbus) // 2, 0]\n",
    "node_to_substation = lambda x: int(float(str(x).replace('666', '')))\n",
    "# intermediate step to get idx_or and idx_ex\n",
    "nodes_or_ids = np.asarray(list(map(node_to_substation, _game.grid.mpc['branch'][:, 0])))\n",
    "nodes_ex_ids = np.asarray(list(map(node_to_substation, _game.grid.mpc['branch'][:, 1])))\n",
    "# origin\n",
    "idx_or = [np.where(half_nodes_ids == or_id)[0][0] for or_id in nodes_or_ids]\n",
    "# extremeties\n",
    "idx_ex = [np.where(half_nodes_ids == ex_id)[0][0] for ex_id in nodes_ex_ids]"
   ]
  },
  {
   "cell_type": "code",
   "execution_count": 30,
   "metadata": {},
   "outputs": [
    {
     "name": "stdout",
     "output_type": "stream",
     "text": [
      "Nodes that are prods = [ True  True  True False False  True False  True False False False False\n",
      " False False]\n",
      "Nodes that are loads = [False  True  True  True  True  True False False  True  True  True  True\n",
      "  True  True]\n"
     ]
    }
   ],
   "source": [
    "# create a Graph\n",
    "g = nx.DiGraph()\n",
    "\n",
    "# custom layout for it to look like the simulator Pypownet.\n",
    "custom_layout = [(-280, -81), (-100, -270), (366, -270), (366, -54), (-64, -54),\n",
    "                 (-64, 54), (366, 0), (438, 0), (326, 54), (222, 108), (79, 162),\n",
    "                 (-152, 270), (-64, 270), (222, 216)]\n",
    "\n",
    "# ================================================ NODE PART ===================================================\n",
    "nodes_ids = mpcbus[:, 0]\n",
    "prods_ids = mpcgen[:, 0]\n",
    "are_prods = np.logical_or([node_id in prods_ids for node_id in nodes_ids[:len(nodes_ids) // 2]],\n",
    "                          [node_id in prods_ids for node_id in nodes_ids[len(nodes_ids) // 2:]])\n",
    "are_loads = np.logical_or(_grid.are_loads[:len(mpcbus) // 2],\n",
    "                          _grid.are_loads[len(nodes_ids) // 2:])\n",
    "print(\"Nodes that are prods =\", are_prods)\n",
    "print(\"Nodes that are loads =\", are_loads)\n",
    "\n",
    "\n",
    "i = 0\n",
    "# We color the nodes\n",
    "for value, is_prod, is_load in zip(custom_layout, are_prods, are_loads):\n",
    "    if is_prod:\n",
    "        g.add_node(i + 1, pos=(str(value[0]) + \", \" + str(value[1]) + \"!\"), pin=True, prod_or_load=\"prod\",\n",
    "                   style=\"filled\", fillcolor=\"#f30000\")  # red color\n",
    "    else:\n",
    "        g.add_node(i + 1, pos=(str(value[0]) + \", \" + str(value[1]) + \"!\"), pin=True, prod_or_load=\"load\",\n",
    "                   style=\"filled\", fillcolor=\"#478fd0\")  # blue color\n",
    "    i += 1\n"
   ]
  },
  {
   "cell_type": "code",
   "execution_count": 31,
   "metadata": {},
   "outputs": [],
   "source": [
    "# ================================================ EDGE PART ===================================================\n",
    "i = 1\n",
    "for origin, extremity, reported_flow, current_flow in zip(idx_or, idx_ex, delta_flows, initial_flows):\n",
    "    origin += 1\n",
    "    extremity += 1\n",
    "    penwidth = math.fabs(reported_flow) / 5\n",
    "    if penwidth == 0.0:\n",
    "        penwidth = 0.1\n",
    "\n",
    "    if i == id_line_cut:\n",
    "        g.add_edge(origin, extremity, xlabel=\"%.2f\" % reported_flow, color=\"black\",\n",
    "                   style=\"dotted, setlinewidth(2)\", fontsize=10, penwidth=penwidth)\n",
    "    elif reported_flow < 0:\n",
    "        if current_flow > 0:\n",
    "            g.add_edge(origin, extremity, xlabel=\"%.2f\" % reported_flow, color=\"blue\", fontsize=10, \n",
    "                       penwidth=penwidth)\n",
    "        else:\n",
    "            g.add_edge(extremity, origin, xlabel=\"%.2f\" % reported_flow, color=\"blue\", fontsize=10,\n",
    "                       penwidth=penwidth)\n",
    "\n",
    "    else:  # > 0\n",
    "        if current_flow > 0:\n",
    "            g.add_edge(origin, extremity, xlabel=\"%.2f\" % reported_flow, color=\"red\", fontsize=10,\n",
    "                       penwidth=penwidth)\n",
    "        else:\n",
    "            g.add_edge(extremity, origin, xlabel=\"%.2f\" % reported_flow, color=\"red\", fontsize=10,\n",
    "                       penwidth=penwidth)\n",
    "\n",
    "    # g.edges[origin, extremity]['id'] = i\n",
    "    i += 1"
   ]
  },
  {
   "cell_type": "markdown",
   "metadata": {},
   "source": [
    "# REPRESENTATION ELECTRIQUE"
   ]
  },
  {
   "cell_type": "code",
   "execution_count": 32,
   "metadata": {},
   "outputs": [
    {
     "name": "stdout",
     "output_type": "stream",
     "text": [
      "we print the cmd line =  neato -n -Tpdf ./outputs/jupyter_test.dot -o ./outputs/jupyter_res1.pdf\n"
     ]
    },
    {
     "data": {
      "image/svg+xml": [
       "<?xml version=\"1.0\" encoding=\"UTF-8\" standalone=\"no\"?>\n",
       "<!DOCTYPE svg PUBLIC \"-//W3C//DTD SVG 1.1//EN\"\n",
       " \"http://www.w3.org/Graphics/SVG/1.1/DTD/svg11.dtd\">\n",
       "<!-- Generated by graphviz version 2.40.1 (20161225.0304)\n",
       " -->\n",
       "<!-- Title: %3 Pages: 1 -->\n",
       "<svg width=\"249pt\" height=\"620pt\"\n",
       " viewBox=\"0.00 0.00 249.48 620.00\" xmlns=\"http://www.w3.org/2000/svg\" xmlns:xlink=\"http://www.w3.org/1999/xlink\">\n",
       "<g id=\"graph0\" class=\"graph\" transform=\"scale(1 1) rotate(0) translate(4 616)\">\n",
       "<title>%3</title>\n",
       "<polygon fill=\"#ffffff\" stroke=\"transparent\" points=\"-4,4 -4,-616 245.4774,-616 245.4774,4 -4,4\"/>\n",
       "<!-- 1 -->\n",
       "<g id=\"node1\" class=\"node\">\n",
       "<title>1</title>\n",
       "<ellipse fill=\"#f30000\" stroke=\"#000000\" cx=\"166\" cy=\"-594\" rx=\"27\" ry=\"18\"/>\n",
       "<text text-anchor=\"middle\" x=\"166\" y=\"-590.3\" font-family=\"Times,serif\" font-size=\"14.00\" fill=\"#000000\">1</text>\n",
       "</g>\n",
       "<!-- 2 -->\n",
       "<g id=\"node2\" class=\"node\">\n",
       "<title>2</title>\n",
       "<ellipse fill=\"#f30000\" stroke=\"#000000\" cx=\"139\" cy=\"-522\" rx=\"27\" ry=\"18\"/>\n",
       "<text text-anchor=\"middle\" x=\"139\" y=\"-518.3\" font-family=\"Times,serif\" font-size=\"14.00\" fill=\"#000000\">2</text>\n",
       "</g>\n",
       "<!-- 1&#45;&gt;2 -->\n",
       "<g id=\"edge1\" class=\"edge\">\n",
       "<title>1&#45;&gt;2</title>\n",
       "<path fill=\"none\" stroke=\"#ff0000\" stroke-width=\".1177\" d=\"M159.3258,-576.2022C156.2524,-568.0064 152.5384,-558.1024 149.1305,-549.0145\"/>\n",
       "<polygon fill=\"#ff0000\" stroke=\"#ff0000\" stroke-width=\".1177\" points=\"152.3858,-547.7274 145.5974,-539.593 145.8315,-550.1853 152.3858,-547.7274\"/>\n",
       "<text text-anchor=\"middle\" x=\"141.5506\" y=\"-561.1348\" font-family=\"Times,serif\" font-size=\"10.00\" fill=\"#000000\">0.59</text>\n",
       "</g>\n",
       "<!-- 5 -->\n",
       "<g id=\"node5\" class=\"node\">\n",
       "<title>5</title>\n",
       "<ellipse fill=\"#478fd0\" stroke=\"#000000\" cx=\"169\" cy=\"-306\" rx=\"27\" ry=\"18\"/>\n",
       "<text text-anchor=\"middle\" x=\"169\" y=\"-302.3\" font-family=\"Times,serif\" font-size=\"14.00\" fill=\"#000000\">5</text>\n",
       "</g>\n",
       "<!-- 1&#45;&gt;5 -->\n",
       "<g id=\"edge2\" class=\"edge\">\n",
       "<title>1&#45;&gt;5</title>\n",
       "<path fill=\"none\" stroke=\"#ff0000\" stroke-width=\".0223\" d=\"M169.7474,-576.0931C171.7466,-565.6241 173.9966,-552.1241 175,-540 181.1312,-465.9184 175.4374,-378.2357 171.6868,-334.2103\"/>\n",
       "<polygon fill=\"#ff0000\" stroke=\"#ff0000\" stroke-width=\".0223\" points=\"175.1727,-333.8961 170.8064,-324.2429 168.1999,-334.512 175.1727,-333.8961\"/>\n",
       "<text text-anchor=\"middle\" x=\"166.5866\" y=\"-452.9274\" font-family=\"Times,serif\" font-size=\"10.00\" fill=\"#000000\">0.11</text>\n",
       "</g>\n",
       "<!-- 3 -->\n",
       "<g id=\"node3\" class=\"node\">\n",
       "<title>3</title>\n",
       "<ellipse fill=\"#f30000\" stroke=\"#000000\" cx=\"73\" cy=\"-450\" rx=\"27\" ry=\"18\"/>\n",
       "<text text-anchor=\"middle\" x=\"73\" y=\"-446.3\" font-family=\"Times,serif\" font-size=\"14.00\" fill=\"#000000\">3</text>\n",
       "</g>\n",
       "<!-- 2&#45;&gt;3 -->\n",
       "<g id=\"edge3\" class=\"edge\">\n",
       "<title>2&#45;&gt;3</title>\n",
       "<path fill=\"none\" stroke=\"#ff0000\" stroke-width=\".0442\" d=\"M124.679,-506.3771C115.7708,-496.659 104.1548,-483.987 94.1925,-473.1191\"/>\n",
       "<polygon fill=\"#ff0000\" stroke=\"#ff0000\" stroke-width=\".0442\" points=\"96.6304,-470.599 87.2931,-465.5924 91.4703,-475.3291 96.6304,-470.599\"/>\n",
       "<text text-anchor=\"middle\" x=\"95.1159\" y=\"-489.1264\" font-family=\"Times,serif\" font-size=\"10.00\" fill=\"#000000\">0.22</text>\n",
       "</g>\n",
       "<!-- 4 -->\n",
       "<g id=\"node4\" class=\"node\">\n",
       "<title>4</title>\n",
       "<ellipse fill=\"#478fd0\" stroke=\"#000000\" cx=\"94\" cy=\"-378\" rx=\"27\" ry=\"18\"/>\n",
       "<text text-anchor=\"middle\" x=\"94\" y=\"-374.3\" font-family=\"Times,serif\" font-size=\"14.00\" fill=\"#000000\">4</text>\n",
       "</g>\n",
       "<!-- 2&#45;&gt;4 -->\n",
       "<g id=\"edge4\" class=\"edge\">\n",
       "<title>2&#45;&gt;4</title>\n",
       "<path fill=\"none\" stroke=\"#ff0000\" stroke-width=\".0775\" d=\"M133.4821,-504.3428C125.7563,-479.6202 111.644,-434.4608 102.5512,-405.3639\"/>\n",
       "<polygon fill=\"#ff0000\" stroke=\"#ff0000\" stroke-width=\".0775\" points=\"105.8865,-404.3025 99.563,-395.8017 99.2052,-406.3904 105.8865,-404.3025\"/>\n",
       "<text text-anchor=\"middle\" x=\"127.5451\" y=\"-453.1443\" font-family=\"Times,serif\" font-size=\"10.00\" fill=\"#000000\">0.39</text>\n",
       "</g>\n",
       "<!-- 2&#45;&gt;5 -->\n",
       "<g id=\"edge5\" class=\"edge\">\n",
       "<title>2&#45;&gt;5</title>\n",
       "<path fill=\"none\" stroke=\"#0000ff\" stroke-width=\".0087\" d=\"M141.5062,-503.9555C146.7341,-466.3144 158.8352,-379.1867 165.0938,-334.1246\"/>\n",
       "<polygon fill=\"#0000ff\" stroke=\"#0000ff\" stroke-width=\".0087\" points=\"168.5708,-334.5315 166.4799,-324.1451 161.6374,-333.5685 168.5708,-334.5315\"/>\n",
       "<text text-anchor=\"middle\" x=\"141.5131\" y=\"-416.906\" font-family=\"Times,serif\" font-size=\"10.00\" fill=\"#000000\">&#45;0.04</text>\n",
       "</g>\n",
       "<!-- 3&#45;&gt;4 -->\n",
       "<g id=\"edge6\" class=\"edge\">\n",
       "<title>3&#45;&gt;4</title>\n",
       "<path fill=\"none\" stroke=\"#0000ff\" stroke-width=\".0588\" d=\"M78.191,-432.2022C80.5384,-424.1541 83.3662,-414.4588 85.9772,-405.5067\"/>\n",
       "<polygon fill=\"#0000ff\" stroke=\"#0000ff\" stroke-width=\".0588\" points=\"89.3559,-406.4226 88.7959,-395.8425 82.6359,-404.4625 89.3559,-406.4226\"/>\n",
       "<text text-anchor=\"middle\" x=\"70.9871\" y=\"-417.0441\" font-family=\"Times,serif\" font-size=\"10.00\" fill=\"#000000\">&#45;0.29</text>\n",
       "</g>\n",
       "<!-- 4&#45;&gt;5 -->\n",
       "<g id=\"edge7\" class=\"edge\">\n",
       "<title>4&#45;&gt;5</title>\n",
       "<path fill=\"none\" stroke=\"#ff0000\" stroke-width=\".3551\" d=\"M109.54,-363.0816C120.099,-352.945 134.2444,-339.3654 146.0892,-327.9944\"/>\n",
       "<polygon fill=\"#ff0000\" stroke=\"#ff0000\" stroke-width=\".3551\" points=\"148.6898,-330.3495 153.4799,-320.8993 143.8421,-325.2998 148.6898,-330.3495\"/>\n",
       "<text text-anchor=\"middle\" x=\"120.5063\" y=\"-344.9939\" font-family=\"Times,serif\" font-size=\"10.00\" fill=\"#000000\">1.78</text>\n",
       "</g>\n",
       "<!-- 7 -->\n",
       "<g id=\"node7\" class=\"node\">\n",
       "<title>7</title>\n",
       "<ellipse fill=\"#478fd0\" stroke=\"#000000\" cx=\"94\" cy=\"-306\" rx=\"27\" ry=\"18\"/>\n",
       "<text text-anchor=\"middle\" x=\"94\" y=\"-302.3\" font-family=\"Times,serif\" font-size=\"14.00\" fill=\"#000000\">7</text>\n",
       "</g>\n",
       "<!-- 4&#45;&gt;7 -->\n",
       "<g id=\"edge8\" class=\"edge\">\n",
       "<title>4&#45;&gt;7</title>\n",
       "<path fill=\"none\" stroke=\"#0000ff\" stroke-width=\".0038\" d=\"M94,-359.8314C94,-352.131 94,-342.9743 94,-334.4166\"/>\n",
       "<polygon fill=\"#0000ff\" stroke=\"#0000ff\" stroke-width=\".0038\" points=\"97.5001,-334.4132 94,-324.4133 90.5001,-334.4133 97.5001,-334.4132\"/>\n",
       "<text text-anchor=\"middle\" x=\"81.5\" y=\"-345.1429\" font-family=\"Times,serif\" font-size=\"10.00\" fill=\"#000000\">&#45;0.02</text>\n",
       "</g>\n",
       "<!-- 9 -->\n",
       "<g id=\"node9\" class=\"node\">\n",
       "<title>9</title>\n",
       "<ellipse fill=\"#478fd0\" stroke=\"#000000\" cx=\"27\" cy=\"-234\" rx=\"27\" ry=\"18\"/>\n",
       "<text text-anchor=\"middle\" x=\"27\" y=\"-230.3\" font-family=\"Times,serif\" font-size=\"14.00\" fill=\"#000000\">9</text>\n",
       "</g>\n",
       "<!-- 4&#45;&gt;9 -->\n",
       "<g id=\"edge9\" class=\"edge\">\n",
       "<title>4&#45;&gt;9</title>\n",
       "<path fill=\"none\" stroke=\"#ff0000\" stroke-width=\".2022\" d=\"M81.4896,-361.6461C73.9659,-351.2683 64.6009,-337.3278 58,-324 48.021,-303.8515 39.8929,-279.6986 34.4669,-261.4886\"/>\n",
       "<polygon fill=\"#ff0000\" stroke=\"#ff0000\" stroke-width=\".2022\" points=\"37.8023,-260.4233 31.6634,-251.7882 31.0775,-262.3668 37.8023,-260.4233\"/>\n",
       "<text text-anchor=\"middle\" x=\"40.0874\" y=\"-311.7975\" font-family=\"Times,serif\" font-size=\"10.00\" fill=\"#000000\">1.01</text>\n",
       "</g>\n",
       "<!-- 6 -->\n",
       "<g id=\"node6\" class=\"node\">\n",
       "<title>6</title>\n",
       "<ellipse fill=\"#f30000\" stroke=\"#000000\" cx=\"171\" cy=\"-234\" rx=\"27\" ry=\"18\"/>\n",
       "<text text-anchor=\"middle\" x=\"171\" y=\"-230.3\" font-family=\"Times,serif\" font-size=\"14.00\" fill=\"#000000\">6</text>\n",
       "</g>\n",
       "<!-- 5&#45;&gt;6 -->\n",
       "<g id=\"edge10\" class=\"edge\">\n",
       "<title>5&#45;&gt;6</title>\n",
       "<path fill=\"none\" stroke=\"#000000\" stroke-width=\".2626\" stroke-dasharray=\"1,5\" d=\"M169.5047,-287.8314C169.7186,-280.131 169.9729,-270.9743 170.2106,-262.4166\"/>\n",
       "<polygon fill=\"#000000\" stroke=\"#000000\" stroke-width=\".2626\" points=\"173.7094,-262.5066 170.4885,-252.4133 166.7121,-262.3122 173.7094,-262.5066\"/>\n",
       "<text text-anchor=\"middle\" x=\"157.496\" y=\"-273.1429\" font-family=\"Times,serif\" font-size=\"10.00\" fill=\"#000000\">&#45;1.31</text>\n",
       "</g>\n",
       "<!-- 11 -->\n",
       "<g id=\"node11\" class=\"node\">\n",
       "<title>11</title>\n",
       "<ellipse fill=\"#478fd0\" stroke=\"#000000\" cx=\"80\" cy=\"-90\" rx=\"27\" ry=\"18\"/>\n",
       "<text text-anchor=\"middle\" x=\"80\" y=\"-86.3\" font-family=\"Times,serif\" font-size=\"14.00\" fill=\"#000000\">11</text>\n",
       "</g>\n",
       "<!-- 6&#45;&gt;11 -->\n",
       "<g id=\"edge13\" class=\"edge\">\n",
       "<title>6&#45;&gt;11</title>\n",
       "<path fill=\"none\" stroke=\"#ff0000\" stroke-width=\".4339\" d=\"M159.8009,-217.5672C152.6082,-206.924 143.1256,-192.7253 135,-180 121.3209,-158.5774 106.3062,-133.9269 95.4258,-115.8468\"/>\n",
       "<polygon fill=\"#ff0000\" stroke=\"#ff0000\" stroke-width=\".4339\" points=\"98.2891,-113.816 90.1419,-107.0429 92.2871,-117.4183 98.2891,-113.816\"/>\n",
       "<text text-anchor=\"middle\" x=\"113.2475\" y=\"-165.9552\" font-family=\"Times,serif\" font-size=\"10.00\" fill=\"#000000\">2.17</text>\n",
       "</g>\n",
       "<!-- 12 -->\n",
       "<g id=\"node12\" class=\"node\">\n",
       "<title>12</title>\n",
       "<ellipse fill=\"#478fd0\" stroke=\"#000000\" cx=\"171\" cy=\"-162\" rx=\"27\" ry=\"18\"/>\n",
       "<text text-anchor=\"middle\" x=\"171\" y=\"-158.3\" font-family=\"Times,serif\" font-size=\"14.00\" fill=\"#000000\">12</text>\n",
       "</g>\n",
       "<!-- 6&#45;&gt;12 -->\n",
       "<g id=\"edge12\" class=\"edge\">\n",
       "<title>6&#45;&gt;12</title>\n",
       "<path fill=\"none\" stroke=\"#ff0000\" stroke-width=\"1.5779\" d=\"M171,-215.8314C171,-208.131 171,-198.9743 171,-190.4166\"/>\n",
       "<polygon fill=\"#ff0000\" stroke=\"#ff0000\" stroke-width=\"1.5779\" points=\"174.5001,-190.4132 171,-180.4133 167.5001,-190.4133 174.5001,-190.4132\"/>\n",
       "<text text-anchor=\"middle\" x=\"160\" y=\"-201.1429\" font-family=\"Times,serif\" font-size=\"10.00\" fill=\"#000000\">7.89</text>\n",
       "</g>\n",
       "<!-- 13 -->\n",
       "<g id=\"node13\" class=\"node\">\n",
       "<title>13</title>\n",
       "<ellipse fill=\"#478fd0\" stroke=\"#000000\" cx=\"171\" cy=\"-90\" rx=\"27\" ry=\"18\"/>\n",
       "<text text-anchor=\"middle\" x=\"171\" y=\"-86.3\" font-family=\"Times,serif\" font-size=\"14.00\" fill=\"#000000\">13</text>\n",
       "</g>\n",
       "<!-- 6&#45;&gt;13 -->\n",
       "<g id=\"edge11\" class=\"edge\">\n",
       "<title>6&#45;&gt;13</title>\n",
       "<path fill=\"none\" stroke=\"#0000ff\" stroke-width=\"2.4236\" d=\"M185.1229,-218.2844C193.2535,-208.1468 202.6901,-194.2347 207,-180 211.6365,-164.6865 211.6365,-159.3135 207,-144 203.7339,-133.2127 197.5236,-122.6108 191.1687,-113.6963\"/>\n",
       "<polygon fill=\"#0000ff\" stroke=\"#0000ff\" stroke-width=\"2.4236\" points=\"193.9513,-111.5732 185.1229,-105.7156 188.3715,-115.8001 193.9513,-111.5732\"/>\n",
       "<text text-anchor=\"middle\" x=\"225.9774\" y=\"-165\" font-family=\"Times,serif\" font-size=\"10.00\" fill=\"#000000\">&#45;12.12</text>\n",
       "</g>\n",
       "<!-- 8 -->\n",
       "<g id=\"node8\" class=\"node\">\n",
       "<title>8</title>\n",
       "<ellipse fill=\"#f30000\" stroke=\"#000000\" cx=\"99\" cy=\"-234\" rx=\"27\" ry=\"18\"/>\n",
       "<text text-anchor=\"middle\" x=\"99\" y=\"-230.3\" font-family=\"Times,serif\" font-size=\"14.00\" fill=\"#000000\">8</text>\n",
       "</g>\n",
       "<!-- 7&#45;&gt;8 -->\n",
       "<g id=\"edge14\" class=\"edge\">\n",
       "<title>7&#45;&gt;8</title>\n",
       "<path fill=\"none\" stroke=\"#ff0000\" stroke-width=\".1356\" d=\"M95.2617,-287.8314C95.7965,-280.131 96.4323,-270.9743 97.0266,-262.4166\"/>\n",
       "<polygon fill=\"#ff0000\" stroke=\"#ff0000\" stroke-width=\".1356\" points=\"100.52,-262.6317 97.7213,-252.4133 93.5368,-262.1467 100.52,-262.6317\"/>\n",
       "<text text-anchor=\"middle\" x=\"85.4901\" y=\"-273.1429\" font-family=\"Times,serif\" font-size=\"10.00\" fill=\"#000000\">0.68</text>\n",
       "</g>\n",
       "<!-- 7&#45;&gt;9 -->\n",
       "<g id=\"edge15\" class=\"edge\">\n",
       "<title>7&#45;&gt;9</title>\n",
       "<path fill=\"none\" stroke=\"#ff0000\" stroke-width=\".4162\" d=\"M79.462,-290.3771C70.4188,-280.659 58.6268,-267.987 48.5136,-257.1191\"/>\n",
       "<polygon fill=\"#ff0000\" stroke=\"#ff0000\" stroke-width=\".4162\" points=\"50.8842,-254.5288 41.5096,-249.5924 45.7597,-259.2975 50.8842,-254.5288\"/>\n",
       "<text text-anchor=\"middle\" x=\"49.6177\" y=\"-273.1264\" font-family=\"Times,serif\" font-size=\"10.00\" fill=\"#000000\">2.08</text>\n",
       "</g>\n",
       "<!-- 10 -->\n",
       "<g id=\"node10\" class=\"node\">\n",
       "<title>10</title>\n",
       "<ellipse fill=\"#478fd0\" stroke=\"#000000\" cx=\"61\" cy=\"-162\" rx=\"27\" ry=\"18\"/>\n",
       "<text text-anchor=\"middle\" x=\"61\" y=\"-158.3\" font-family=\"Times,serif\" font-size=\"14.00\" fill=\"#000000\">10</text>\n",
       "</g>\n",
       "<!-- 9&#45;&gt;10 -->\n",
       "<g id=\"edge17\" class=\"edge\">\n",
       "<title>9&#45;&gt;10</title>\n",
       "<path fill=\"none\" stroke=\"#0000ff\" stroke-width=\".0058\" d=\"M35.2305,-216.5708C39.1979,-208.1691 44.0429,-197.9091 48.4567,-188.5623\"/>\n",
       "<polygon fill=\"#0000ff\" stroke=\"#0000ff\" stroke-width=\".0058\" points=\"51.7401,-189.8057 52.8453,-179.2687 45.4104,-186.8166 51.7401,-189.8057\"/>\n",
       "<text text-anchor=\"middle\" x=\"31.5189\" y=\"-200.9601\" font-family=\"Times,serif\" font-size=\"10.00\" fill=\"#000000\">&#45;0.03</text>\n",
       "</g>\n",
       "<!-- 14 -->\n",
       "<g id=\"node14\" class=\"node\">\n",
       "<title>14</title>\n",
       "<ellipse fill=\"#478fd0\" stroke=\"#000000\" cx=\"88\" cy=\"-18\" rx=\"27\" ry=\"18\"/>\n",
       "<text text-anchor=\"middle\" x=\"88\" y=\"-14.3\" font-family=\"Times,serif\" font-size=\"14.00\" fill=\"#000000\">14</text>\n",
       "</g>\n",
       "<!-- 9&#45;&gt;14 -->\n",
       "<g id=\"edge16\" class=\"edge\">\n",
       "<title>9&#45;&gt;14</title>\n",
       "<path fill=\"none\" stroke=\"#ff0000\" stroke-width=\"1.0471\" d=\"M24.856,-215.8106C22.0188,-184.5382 19.8815,-119.3798 44,-72 49.6858,-60.8305 57.9794,-49.8543 65.8375,-40.7455\"/>\n",
       "<polygon fill=\"#ff0000\" stroke=\"#ff0000\" stroke-width=\"1.0471\" points=\"68.4784,-43.043 72.5545,-33.2635 63.2696,-38.3666 68.4784,-43.043\"/>\n",
       "<text text-anchor=\"middle\" x=\"17.1824\" y=\"-123.6769\" font-family=\"Times,serif\" font-size=\"10.00\" fill=\"#000000\">5.24</text>\n",
       "</g>\n",
       "<!-- 10&#45;&gt;11 -->\n",
       "<g id=\"edge18\" class=\"edge\">\n",
       "<title>10&#45;&gt;11</title>\n",
       "<path fill=\"none\" stroke=\"#ff0000\" stroke-width=\".4327\" d=\"M65.6966,-144.2022C67.7976,-136.2406 70.324,-126.6671 72.665,-117.7957\"/>\n",
       "<polygon fill=\"#ff0000\" stroke=\"#ff0000\" stroke-width=\".4327\" points=\"76.1241,-118.4046 75.2916,-107.8425 69.3558,-116.6185 76.1241,-118.4046\"/>\n",
       "<text text-anchor=\"middle\" x=\"59.547\" y=\"-128.8219\" font-family=\"Times,serif\" font-size=\"10.00\" fill=\"#000000\">2.16</text>\n",
       "</g>\n",
       "<!-- 12&#45;&gt;13 -->\n",
       "<g id=\"edge19\" class=\"edge\">\n",
       "<title>12&#45;&gt;13</title>\n",
       "<path fill=\"none\" stroke=\"#ff0000\" stroke-width=\"1.5625\" d=\"M171,-143.8314C171,-136.131 171,-126.9743 171,-118.4166\"/>\n",
       "<polygon fill=\"#ff0000\" stroke=\"#ff0000\" stroke-width=\"1.5625\" points=\"174.5001,-118.4132 171,-108.4133 167.5001,-118.4133 174.5001,-118.4132\"/>\n",
       "<text text-anchor=\"middle\" x=\"160\" y=\"-129.1429\" font-family=\"Times,serif\" font-size=\"10.00\" fill=\"#000000\">7.81</text>\n",
       "</g>\n",
       "<!-- 13&#45;&gt;14 -->\n",
       "<g id=\"edge20\" class=\"edge\">\n",
       "<title>13&#45;&gt;14</title>\n",
       "<path fill=\"none\" stroke=\"#0000ff\" stroke-width=\".5086\" d=\"M154.2037,-75.4297C142.2002,-65.017 125.8613,-50.8435 112.4189,-39.1827\"/>\n",
       "<polygon fill=\"#0000ff\" stroke=\"#0000ff\" stroke-width=\".5086\" points=\"114.3354,-36.2118 104.4881,-32.3029 109.7485,-41.4996 114.3354,-36.2118\"/>\n",
       "<text text-anchor=\"middle\" x=\"116.9088\" y=\"-56.9209\" font-family=\"Times,serif\" font-size=\"10.00\" fill=\"#000000\">&#45;2.54</text>\n",
       "</g>\n",
       "</g>\n",
       "</svg>\n"
      ],
      "text/plain": [
       "<graphviz.files.Source at 0x7f7731026fd0>"
      ]
     },
     "execution_count": 32,
     "metadata": {},
     "output_type": "execute_result"
    }
   ],
   "source": [
    "# display Graph\n",
    "import graphviz\n",
    "\n",
    "layout_engines = [\"dot\"]\n",
    "original_filename = \"./outputs/jupyter_test.dot\"\n",
    "final_filename = \"./outputs/jupyter_res1.pdf\"\n",
    "nx.drawing.nx_pydot.write_dot(g, original_filename)\n",
    "g\n",
    "cmd_line = \"neato -n -Tpdf \" + original_filename + \" -o \" + final_filename\n",
    "print(\"we print the cmd line = \", cmd_line)\n",
    "os.system(cmd_line)\n",
    "#os.system(\"evince \" + final_filename + \" &\")\n",
    "\n",
    "# this is the command line to create a pdf from a dot file, with fixed nodes\n",
    "# neato - n2 - Tgif file.dot - o file.gif\n",
    "\n",
    "for layout in layout_engines:\n",
    "    filename = \"./graph_results/pywpow_graph_\" + layout + \".dot\"\n",
    "    gg = graphviz.Source.from_file(original_filename, engine=layout)\n",
    "    ##gg.view(filename=filename)\n",
    "gg"
   ]
  },
  {
   "cell_type": "markdown",
   "metadata": {},
   "source": [
    "# REPRESENTATION GEOGRAPHIQUE"
   ]
  },
  {
   "cell_type": "code",
   "execution_count": 33,
   "metadata": {},
   "outputs": [
    {
     "data": {
      "text/html": [
       "\n",
       "        <iframe\n",
       "            width=\"800\"\n",
       "            height=\"700\"\n",
       "            src=\"./outputs/jupyter_res1.pdf\"\n",
       "            frameborder=\"0\"\n",
       "            allowfullscreen\n",
       "        ></iframe>\n",
       "        "
      ],
      "text/plain": [
       "<IPython.lib.display.IFrame at 0x7f7731037588>"
      ]
     },
     "execution_count": 33,
     "metadata": {},
     "output_type": "execute_result"
    }
   ],
   "source": [
    "from IPython.display import IFrame\n",
    "\n",
    "IFrame(\"./outputs/jupyter_res1.pdf\", width=800, height=700)"
   ]
  },
  {
   "cell_type": "markdown",
   "metadata": {},
   "source": [
    "# <font color=orange>4) Identify Local Electrical Paths</font>"
   ]
  },
  {
   "cell_type": "code",
   "execution_count": 34,
   "metadata": {},
   "outputs": [
    {
     "name": "stdout",
     "output_type": "stream",
     "text": [
      "This is our final test\n"
     ]
    }
   ],
   "source": [
    "# Let us add here a final test\n",
    "print(\"This is our final test\")"
   ]
  }
 ],
 "metadata": {
  "jupytext": {
   "formats": "ipynb,py:light"
  },
  "kernelspec": {
   "display_name": "Python 3",
   "language": "python",
   "name": "python3"
  },
  "language_info": {
   "codemirror_mode": {
    "name": "ipython",
    "version": 3
   },
   "file_extension": ".py",
   "mimetype": "text/x-python",
   "name": "python",
   "nbconvert_exporter": "python",
   "pygments_lexer": "ipython3",
   "version": "3.6.6"
  }
 },
 "nbformat": 4,
 "nbformat_minor": 2
}
